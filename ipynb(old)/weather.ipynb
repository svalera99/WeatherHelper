{
 "cells": [
  {
   "cell_type": "code",
   "execution_count": 41,
   "metadata": {},
   "outputs": [],
   "source": [
    "import spacy\n",
    "import requests\n",
    "import datetime\n",
    "import pyowm\n",
    "import random\n",
    "from mechanize import Browser\n",
    "from bs4 import BeautifulSoup\n",
    "from selenium import webdriver\n",
    "from math import floor\n",
    "import nltk"
   ]
  },
  {
   "cell_type": "code",
   "execution_count": 169,
   "metadata": {},
   "outputs": [
    {
     "name": "stdout",
     "output_type": "stream",
     "text": [
      "['__class__', '__delattr__', '__dir__', '__eq__', '__format__', '__ge__', '__getattribute__', '__gt__', '__hash__', '__init__', '__init_subclass__', '__le__', '__lt__', '__ne__', '__new__', '__reduce__', '__reduce_ex__', '__repr__', '__setattr__', '__sizeof__', '__str__', '__subclasshook__', '_will_be', 'get_forecast', 'get_weather_at', 'most_cold', 'most_hot', 'most_humid', 'most_rainy', 'most_snowy', 'most_windy', 'when_clear', 'when_clouds', 'when_ends', 'when_fog', 'when_hurricane', 'when_rain', 'when_snow', 'when_starts', 'when_storm', 'when_sun', 'when_tornado', 'will_be_clear_at', 'will_be_cloudy_at', 'will_be_foggy_at', 'will_be_hurricane_at', 'will_be_rainy_at', 'will_be_snowy_at', 'will_be_stormy_at', 'will_be_sunny_at', 'will_be_tornado_at', 'will_have_clear', 'will_have_clouds', 'will_have_fog', 'will_have_hurricane', 'will_have_rain', 'will_have_snow', 'will_have_storm', 'will_have_sun', 'will_have_tornado']\n"
     ]
    },
    {
     "data": {
      "text/plain": [
       "{'temp_celsius_prec': 18.25,\n",
       " 'temp_fahr_prec': 64.85,\n",
       " 'will_rain': False,\n",
       " 'will_snow': False}"
      ]
     },
     "execution_count": 169,
     "metadata": {},
     "output_type": "execute_result"
    }
   ],
   "source": [
    "def getWeather(location, date):\n",
    "    \"\"\"\n",
    "    [str, datetime] -> dict\n",
    "    Finish time for more than 5 days\n",
    "    \"\"\"\n",
    "    openWeatherKey = \"441128368845c5854135b6a09d13ca66\"\n",
    "    owm = pyowm.OWM(openWeatherKey) \n",
    "    \n",
    "    weather_dict = dict()\n",
    "    diff = abs(datetime.datetime.now().day - date.day)\n",
    "    if  diff < 5: #if less than 5 days use open weather api\n",
    "        fc = owm.three_hours_forecast(location)\n",
    "        f = fc.get_weather_at(date)\n",
    "        weather_dict.update({\"temp_celsius_prec\":f.get_temperature(unit=\"celsius\")[\"temp\"]})\n",
    "        weather_dict.update({\"temp_fahr_prec\":f.get_temperature(unit=\"fahrenheit\")[\"temp\"]})\n",
    "        weather_dict.update({\"will_rain\": fc.will_be_rainy_at(date)})\n",
    "        weather_dict.update({\"will_snow\": fc.will_be_snowy_at(date)})\n",
    " \n",
    "        #print([func for func in dir(fc) if callable(getattr(fc, func))]) \n",
    "        \n",
    "    elif diff < 14: # else parse bbc weather\n",
    "        br = Browser()\n",
    "        bbc_url = \"https://www.bbc.com/weather/\"\n",
    "        br.open(bbc_url)\n",
    "        br.set_handle_robots(False)\n",
    "        br.addheaders = [(\"User-agent\",\"Mozilla/5.0\")] \n",
    "        \n",
    "        formcount = 0\n",
    "        for form in br.forms(): # get the number of form to input city name to\n",
    "            if str(form.attrs[\"class\"]) == \"ls-o-form\":\n",
    "                break\n",
    "            formcount += 1 \n",
    "            \n",
    "        br.select_form(nr=formcount-1)\n",
    "        br.form[\"s\"] = location     \n",
    "        br.submit()\n",
    "        url = br.geturl()\n",
    "\n",
    "        resp = requests.get(url)\n",
    "        bSoup = BeautifulSoup(resp.content, \"html.parser\")\n",
    "        a = bSoup.select(\".location-search-results__result__link\")[0]\n",
    "        final_url = bbc_url + a.attrs[\"href\"]\n",
    "\n",
    "        \n",
    "        resp = requests.get(final_url)\n",
    "        bSoup = BeautifulSoup(resp.content, \"html.parser\")\n",
    "        temp_li = bSoup.select(f\".wr-day--{diff}\")[0] \n",
    "        \n",
    "        weather_dict.update({\"temp_celsius_max\":int(temp_li.select(\".wr-day-temperature__high\")[0].select(\".wr-value--temperature--c\")[0].contents[0][:-1])})\n",
    "        weather_dict.update({\"temp_fahr_max\":int(temp_li.select(\".wr-day-temperature__high\")[0].select(\".wr-value--temperature--f\")[0].contents[0][:-1])})\n",
    "        weather_dict.update({\"temp_celsius_min\":int(temp_li.select(\".wr-day-temperature__low-value\")[0].select(\".wr-value--temperature--c\")[0].contents[0][:-1])})\n",
    "        weather_dict.update({\"temp_fahr_min\":int(temp_li.select(\".wr-day-temperature__low-value\")[0].select(\".wr-value--temperature--f\")[0].contents[0][:-1])})\n",
    "        \n",
    "    return weather_dict\n",
    " \n",
    "        \n",
    "#getWeather(\"Kiev\",datetime.datetime(2019, 7, 13, 12, 30)) use with time if less than five days \n",
    "#getWeather(\"Kiev,ua\",datetime.datetime(2019, 7, 19)) without time if more"
   ]
  },
  {
   "cell_type": "code",
   "execution_count": 76,
   "metadata": {},
   "outputs": [],
   "source": [
    "# def createData(input_data):\n",
    "#     output_data = list()\n",
    "#     for sent in input_data:\n",
    "#         tokenized = nltk.word_tokenize(sent)\n",
    "#         for token in tokenized:\n",
    "#             inx = sent.index(token)\n",
    "#             try:\n",
    "#                 end = inx + sent[inx:].index(' ') - 1\n",
    "#             except:\n",
    "#                 end = -1\n",
    "#             print(token, inx, end)\n",
    "#         print(\"\\n\")\n",
    "            "
   ]
  },
  {
   "cell_type": "code",
   "execution_count": null,
   "metadata": {},
   "outputs": [],
   "source": []
  }
 ],
 "metadata": {
  "kernelspec": {
   "display_name": "Python 3",
   "language": "python",
   "name": "python3"
  },
  "language_info": {
   "codemirror_mode": {
    "name": "ipython",
    "version": 3
   },
   "file_extension": ".py",
   "mimetype": "text/x-python",
   "name": "python",
   "nbconvert_exporter": "python",
   "pygments_lexer": "ipython3",
   "version": "3.7.3"
  },
  "widgets": {
   "application/vnd.jupyter.widget-state+json": {
    "state": {},
    "version_major": 2,
    "version_minor": 0
   }
  }
 },
 "nbformat": 4,
 "nbformat_minor": 2
}
