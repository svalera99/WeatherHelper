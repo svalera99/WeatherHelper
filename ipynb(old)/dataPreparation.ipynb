{
 "cells": [
  {
   "cell_type": "code",
   "execution_count": 2,
   "metadata": {},
   "outputs": [],
   "source": [
    "import pandas as pd\n",
    "from scipy.spatial import distance\n",
    "from math import inf\n",
    "import os\n",
    "import ast"
   ]
  },
  {
   "cell_type": "code",
   "execution_count": 25,
   "metadata": {},
   "outputs": [
    {
     "name": "stdout",
     "output_type": "stream",
     "text": [
      "{'food': {'french', 'meat', 'cafes_coffee', 'steakhouse', 'fast_food', 'sushi', 'pizza', 'restaurant', 'american', 'italian', 'international', 'diner', 'mexican', 'vegetarian', 'asian', 'thai', 'seafood', 'chinese', 'indian'}, 'shopping': {'toy', 'department_store', 'antiques', 'fashion', 'gift'}, 'nightlife': {'night_club', 'jazz_cafe', 'bar', 'lounge'}, 'museums': {'art', 'planetarium', 'science', 'history', 'gallery'}, 'sightseeings': {'religious_site', 'historic_site', 'memorial_monument'}, 'nature': {'zoo_aquarium', 'park'}}\n"
     ]
    }
   ],
   "source": [
    "tags_dict = dict()\n",
    "i = 0\n",
    "for file in os.listdir(\"tags\"):\n",
    "    if file.endswith(\".xlsx\"):\n",
    "        df = pd.read_excel(\"~/Programs/jupyterEnvironments/sentimentalAnalysis/sentimental/StangordNER/tags/\" + file)[\"categories\"]\n",
    "        for i in range(df.shape[0]):\n",
    "            val = ast.literal_eval(df.iloc[i])\n",
    "            if val:\n",
    "                for j in val:\n",
    "                    if \":\" in j:\n",
    "                        splitted_tag = j.split(\":\")\n",
    "                        if splitted_tag[0] in tags_dict.keys():\n",
    "                            tags_dict[splitted_tag[0]].add(splitted_tag[1])\n",
    "                        else:\n",
    "                            try:\n",
    "                                tags_dict[splitted_tag[0]] = set([splitted_tag[1]])\n",
    "                            except:\n",
    "                                print(splitted_tag)\n",
    "                    else:\n",
    "                        try:\n",
    "                            tags_dict[\"museums\"].add(j)\n",
    "                        except:\n",
    "                            tags_dict[\"museums\"] = set([j])\n",
    "#print(tags_dict)\n",
    "                            \n"
   ]
  },
  {
   "cell_type": "code",
   "execution_count": 27,
   "metadata": {},
   "outputs": [],
   "source": [
    "clean_tags = {tag:[name  if \"_\" not in name else \"coffee\" if name == \"cafes_coffee\" else name[:name.index(\"_\")] for name in tags_dict[tag]] for tag in tags_dict.keys()}\n",
    "#print(clean_tags)"
   ]
  },
  {
   "cell_type": "code",
   "execution_count": 4,
   "metadata": {},
   "outputs": [],
   "source": [
    "def returnClosestLocations(tagName, currentLocation = [-118.360213975157, 34.0472711523094], limit = 3):\n",
    "    places_list, min_dist_places = list(), list()\n",
    "    for file in os.listdir(\"tags\"):\n",
    "        if file.endswith(\".xlsx\"):\n",
    "            df = pd.read_excel(\"~/Programs/jupyterEnvironments/sentimentalAnalysis/sentimental/StangordNER/tags/\" + file)\n",
    "            for i in range(df.shape[0]):\n",
    "                row = df.iloc[i]\n",
    "                if tagName in ast.literal_eval(row.loc[\"categories\"]):\n",
    "                    if pd.notna(float(row.loc[\"lon\"])) and pd.notna(float(row.loc[\"lat\"])):\n",
    "                        places_list.append([row.loc[\"_source/name\"],float(row.loc[\"lon\"]),float(row.loc[\"lat\"])])\n",
    "           \n",
    "    for j in range(limit):\n",
    "        closest = min(places_list, key=lambda x:distance.euclidean(x[1:], currentLocation))\n",
    "        places_list.remove(closest)\n",
    "        min_dist_places.append(closest)\n",
    "    \n",
    "    #print(min_dist_places)\n"
   ]
  },
  {
   "cell_type": "code",
   "execution_count": 71,
   "metadata": {},
   "outputs": [
    {
     "name": "stdout",
     "output_type": "stream",
     "text": [
      "[['Panda Express', -118.3759425649465, 34.04942846463248], ['Wok On Fire', -118.376214272031, 34.0519238780468], ['Yoshinoya', -118.3764204637805, 34.05143560055549]]\n"
     ]
    }
   ],
   "source": [
    "returnClosestLocations(\"food:asian\")"
   ]
  },
  {
   "cell_type": "code",
   "execution_count": null,
   "metadata": {},
   "outputs": [],
   "source": []
  }
 ],
 "metadata": {
  "kernelspec": {
   "display_name": "Python 3",
   "language": "python",
   "name": "python3"
  },
  "language_info": {
   "codemirror_mode": {
    "name": "ipython",
    "version": 3
   },
   "file_extension": ".py",
   "mimetype": "text/x-python",
   "name": "python",
   "nbconvert_exporter": "python",
   "pygments_lexer": "ipython3",
   "version": "3.7.3"
  }
 },
 "nbformat": 4,
 "nbformat_minor": 2
}
