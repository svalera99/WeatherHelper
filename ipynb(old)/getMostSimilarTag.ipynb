{
 "cells": [
  {
   "cell_type": "code",
   "execution_count": 1,
   "metadata": {},
   "outputs": [],
   "source": [
    "from nltk.stem import WordNetLemmatizer \n",
    "lemmatizer = WordNetLemmatizer()\n",
    "import operator\n",
    "import spacy\n",
    "nlp = spacy.load('en_core_web_lg', disable=[\"ner\",\"tagger\",\"parser\"])\n",
    "\n",
    "from gensim.models import FastText, KeyedVectors"
   ]
  },
  {
   "cell_type": "code",
   "execution_count": 2,
   "metadata": {},
   "outputs": [],
   "source": [
    "%run dataPreparation.ipynb"
   ]
  },
  {
   "cell_type": "code",
   "execution_count": 3,
   "metadata": {},
   "outputs": [],
   "source": [
    "google_model = KeyedVectors.load_word2vec_format('~/Documents/GoogleNews-vectors-negative300.bin.gz', binary=True, limit=500000) \n",
    "wikipedia_model = KeyedVectors.load_word2vec_format('~/Documents/wiki_model.bin', binary=True, limit=500000) "
   ]
  },
  {
   "cell_type": "code",
   "execution_count": 4,
   "metadata": {},
   "outputs": [],
   "source": [
    "def getMostSimilarTag(user_input):\n",
    "    answer = {tag:0 for tag in clean_tags.keys()}\n",
    "    for noun in user_input: #firstly choose the tag categorie\n",
    "        try:\n",
    "            google_res = {tag:google_model.similarity(noun, lemmatizer.lemmatize(tag)) for tag in clean_tags.keys()}\n",
    "            google_answer = max(google_res.items(), key=operator.itemgetter(1))\n",
    "            answer[google_answer[0]] += 1\n",
    "        except KeyError:\n",
    "            print(\"No embedding in google model\")\n",
    "\n",
    "        doc = nlp(noun)\n",
    "        doc2 = nlp(\" \".join([tag for tag in clean_tags.keys()]))\n",
    "        spacy_res = {i.text:i.similarity(doc[0]) for i in doc2}\n",
    "        spacy_answer = max(spacy_res.items(), key=operator.itemgetter(1))\n",
    "        answer[spacy_answer[0]] += 1\n",
    "        \n",
    "        try:\n",
    "            wiki_res = {tag:wikipedia_model.similarity(lemmatizer.lemmatize(noun), lemmatizer.lemmatize(tag)) for tag in clean_tags.keys()}\n",
    "            wiki_answer = max(wiki_res.items(), key=operator.itemgetter(1))\n",
    "            answer[wiki_answer[0]] += 1\n",
    "        except KeyError:\n",
    "            print(\"No embedding in wiki model\")\n",
    "\n",
    "        \n",
    "        \n",
    "        \n",
    "    #print(answer)\n",
    "        \n",
    "\n",
    "    most_likely_tag = max(answer.items(), key=operator.itemgetter(1))[0] #than concreete tag type\n",
    "    doc = nlp(most_likely_tag)\n",
    "    final_res = dict()\n",
    "    for word in clean_tags[most_likely_tag]:\n",
    "        doc2 = nlp(word)\n",
    "        final_res.update({word:doc2[0].similarity(doc[0])})\n",
    "    #print(final_res)\n",
    "    \n",
    "    return final_res\n"
   ]
  },
  {
   "cell_type": "code",
   "execution_count": 5,
   "metadata": {},
   "outputs": [
    {
     "name": "stdout",
     "output_type": "stream",
     "text": [
      "No embedding in google model\n",
      "No embedding in wiki model\n",
      "{'food': 1, 'shopping': 0, 'nightlife': 0, 'museums': 0, 'sightseeings': 0, 'nature': 0}\n",
      "{'italian': 0.399834, 'coffee': 0.5719115, 'french': 0.39063978, 'sushi': 0.56590277, 'indian': 0.35212925, 'meat': 0.679823, 'seafood': 0.6674726, 'pizza': 0.59247416, 'international': 0.3518566, 'vegetarian': 0.6237852, 'fast': 0.3947091, 'thai': 0.35116133, 'mexican': 0.43580604, 'restaurant': 0.63396895, 'asian': 0.3179651, 'chinese': 0.4226744, 'diner': 0.4864095, 'american': 0.3843167, 'steakhouse': 0.32842082}\n"
     ]
    },
    {
     "name": "stderr",
     "output_type": "stream",
     "text": [
      "/usr/lib/python3.7/runpy.py:193: UserWarning: [W008] Evaluating Token.similarity based on empty vectors.\n",
      "  \"__main__\", mod_spec)\n"
     ]
    },
    {
     "data": {
      "text/plain": [
       "('food', 0.34991303)"
      ]
     },
     "execution_count": 5,
     "metadata": {},
     "output_type": "execute_result"
    }
   ],
   "source": [
    "getMostSimilarTag([\"meet friends\"])"
   ]
  },
  {
   "cell_type": "code",
   "execution_count": null,
   "metadata": {},
   "outputs": [],
   "source": []
  }
 ],
 "metadata": {
  "kernelspec": {
   "display_name": "Python 3",
   "language": "python",
   "name": "python3"
  },
  "language_info": {
   "codemirror_mode": {
    "name": "ipython",
    "version": 3
   },
   "file_extension": ".py",
   "mimetype": "text/x-python",
   "name": "python",
   "nbconvert_exporter": "python",
   "pygments_lexer": "ipython3",
   "version": "3.7.3"
  }
 },
 "nbformat": 4,
 "nbformat_minor": 2
}
